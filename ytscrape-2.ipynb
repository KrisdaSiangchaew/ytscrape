{
 "cells": [
  {
   "cell_type": "code",
   "execution_count": 7,
   "id": "080587e0",
   "metadata": {},
   "outputs": [],
   "source": [
    "from dotenv import load_dotenv\n",
    "import os\n",
    "from youtube_transcript_api import YouTubeTranscriptApi\n",
    "from openai import OpenAI"
   ]
  },
  {
   "cell_type": "code",
   "execution_count": 50,
   "id": "17fd3e39",
   "metadata": {},
   "outputs": [],
   "source": [
    "def video_id(youtube_url: str) -> str:\n",
    "    phrase = \"https://www.youtube.com/watch?v=\"\n",
    "    replacement = \"\"\n",
    "\n",
    "    return youtube_url.replace(phrase,replacement)\n",
    "\n",
    "def video_transcript(youtube_url: str) -> str:\n",
    "    ytt = YouTubeTranscriptApi()\n",
    "    id = video_id(youtube_url)\n",
    "    transcript_text = \"\"\n",
    "   \n",
    "    transcript = ytt.fetch(video_id=id)\n",
    "    for entry in transcript:\n",
    "        transcript_text += f\"{entry.text}\\n\"\n",
    "\n",
    "    return transcript_text\n",
    "\n",
    "def user_content(youtube_url: str) -> str:\n",
    "    transcript = video_transcript(youtube_url)\n",
    "\n",
    "    return f\"\\'Please summarize the following Youtube script: \\n\\n {transcript}\\'\"\n",
    "\n",
    "def summarize(youtube_url: str) -> str:\n",
    "    load_dotenv(override=True)\n",
    "    MODEL = \"gpt-4o-mini\"\n",
    "    content = user_content(youtube_url)\n",
    "    \n",
    "    openai = OpenAI()\n",
    "    response = openai.chat.completions.create(\n",
    "        model = MODEL,\n",
    "        messages=[{'role': 'user', 'content': content}]\n",
    "    )\n",
    "\n",
    "    return response.choices[0].message.content\n"
   ]
  },
  {
   "cell_type": "code",
   "execution_count": 51,
   "id": "4a770788",
   "metadata": {},
   "outputs": [
    {
     "name": "stdout",
     "output_type": "stream",
     "text": [
      "The script examines the Trump administration's stance on Chinese students studying in the U.S., raising concerns about national security. Trump argues that students with ties to the Chinese Communist Party (CCP) or studying in critical fields could pose a risk, prompting the State Department and Homeland Security to revoke Chinese student visas more aggressively. The discussion highlights the implications of such policies, questioning whether this is a valid national security measure or a discriminatory act that endangers over 50 years of diplomatic ties and academic exchanges. \n",
      "\n",
      "The video points out that while tightening security checks can prevent espionage, targeting students for their CCP affiliations is problematic as membership can be driven by career aspirations rather than ideological intentions. Existing vetting processes are already rigorous, and the proposed measures add another layer of scrutiny that may discourage Chinese students from studying in the U.S. Ultimately, the script suggests that regardless of effectiveness, these policies create a hostile environment and deter potential Chinese students, which aligns with the administration's broader adversarial stance towards China.\n"
     ]
    }
   ],
   "source": [
    "url = \"https://www.youtube.com/watch?v=6B0LP6GbWZc\"\n",
    "print(summarize(youtube_url=url))"
   ]
  },
  {
   "cell_type": "code",
   "execution_count": null,
   "id": "05b6c28e",
   "metadata": {},
   "outputs": [],
   "source": []
  }
 ],
 "metadata": {
  "kernelspec": {
   "display_name": "llms",
   "language": "python",
   "name": "python3"
  },
  "language_info": {
   "codemirror_mode": {
    "name": "ipython",
    "version": 3
   },
   "file_extension": ".py",
   "mimetype": "text/x-python",
   "name": "python",
   "nbconvert_exporter": "python",
   "pygments_lexer": "ipython3",
   "version": "3.11.12"
  }
 },
 "nbformat": 4,
 "nbformat_minor": 5
}
