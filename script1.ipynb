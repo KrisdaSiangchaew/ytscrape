{
 "cells": [
  {
   "cell_type": "code",
   "execution_count": 3,
   "id": "8e244859",
   "metadata": {},
   "outputs": [],
   "source": [
    "from dotenv import load_dotenv\n",
    "import os"
   ]
  },
  {
   "cell_type": "code",
   "execution_count": 9,
   "id": "a4724f1b",
   "metadata": {},
   "outputs": [],
   "source": [
    "load_dotenv()\n",
    "\n",
    "api_key = os.getenv(\"OPENAI_API_KEY\") \n",
    "if not api_key:\n",
    "    raise ValueError(\"Please set the DEEPSEEK_API_KEY environment variable.\")   \n"
   ]
  },
  {
   "cell_type": "code",
   "execution_count": null,
   "id": "9e19ad0d",
   "metadata": {},
   "outputs": [],
   "source": [
    "from youtube_transcript_api import YouTubeTranscriptApi\n",
    "\n",
    "ytt_api = YouTubeTranscriptApi()\n",
    "\n",
    "url = \"https://www.youtube.com/watch?v=KvTGUI4Tznw\"\n",
    "video_id = url.replace(\"https://www.youtube.com/watch?v=\", \"\")\n",
    "# transcript = ytt_api.fetch(video_id)\n",
    "transcript = ytt_api.get_transcript(video_id)\n",
    "\n",
    "transcript_text = \"\"\n",
    "for entry in transcript:\n",
    "    sentence = entry[\"text\"]\n",
    "    transcript_text += f\"{sentence}\\n\"\n",
    "\n"
   ]
  },
  {
   "cell_type": "code",
   "execution_count": 7,
   "id": "e5e1388b",
   "metadata": {},
   "outputs": [],
   "source": [
    "from openai import OpenAI"
   ]
  },
  {
   "cell_type": "code",
   "execution_count": 19,
   "id": "f998c71b",
   "metadata": {},
   "outputs": [],
   "source": [
    "client = OpenAI()\n",
    "MODEL = \"gpt-4o-mini\"\n",
    "\n",
    "response = client.chat.completions.create(\n",
    "    model=MODEL,\n",
    "    messages=[\n",
    "        {\n",
    "            \"role\": \"user\",\n",
    "            \"content\": f\"Summarize the following transcript: {transcript_text}\"\n",
    "        }\n",
    "    ]\n",
    ")\n",
    "\n",
    "response_text = response.choices[0].message.content"
   ]
  },
  {
   "cell_type": "code",
   "execution_count": 20,
   "id": "14a0e1f1",
   "metadata": {},
   "outputs": [
    {
     "name": "stdout",
     "output_type": "stream",
     "text": [
      "The speaker welcomed attendees to the University of Washington's esteemed computer science department, highlighting their research in artificial intelligence (AI). They discussed the rapid advancements in AI, particularly in generative AI, and the pervasive use of AI technologies in everyday life, including machine learning applications like Netflix recommendations and medical diagnostics.\n",
      "\n",
      "The main focus of the talk was on machine learning and reinforcement learning (RL), explaining how these technologies help AI systems learn from data and optimize behavior through interaction with their environment. The speaker noted the transformative impact of deep learning, particularly from around 2012, and emphasized the importance of large datasets and computational resources in improving AI performance.\n",
      "\n",
      "The discussion shifted to the nuances of reinforcement learning from human feedback (RHF), highlighting its role in training large language models (LLMs) like ChatGPT. The speaker described the methodology behind RHF, including the challenges of ensuring safety and alignment of AI with user preferences. They addressed concerns about bias and the ethical implications of AI, calling for diverse perspectives in AI development to better understand varying user needs.\n",
      "\n",
      "The audience was engaged in discussions about the potential and challenges of AI, including efficiency improvements, ethical considerations, and the necessity for adaptability. The speaker shared their research experiences, particularly their contributions to RL in music generation, drug discovery, and the ongoing exploration of improving LLMs through adaptive learning techniques.\n",
      "\n",
      "Finally, they initiated a Q&A session, inviting questions about their research, education background, and undergraduate research opportunities in their lab. The overall theme underscored the burgeoning role of AI while acknowledging the need for responsible development and user-centric innovations.\n"
     ]
    }
   ],
   "source": [
    "print(response_text)\n"
   ]
  },
  {
   "cell_type": "code",
   "execution_count": null,
   "id": "687eb8f5",
   "metadata": {},
   "outputs": [],
   "source": []
  }
 ],
 "metadata": {
  "kernelspec": {
   "display_name": "ytscrape",
   "language": "python",
   "name": "python3"
  },
  "language_info": {
   "codemirror_mode": {
    "name": "ipython",
    "version": 3
   },
   "file_extension": ".py",
   "mimetype": "text/x-python",
   "name": "python",
   "nbconvert_exporter": "python",
   "pygments_lexer": "ipython3",
   "version": "3.12.9"
  }
 },
 "nbformat": 4,
 "nbformat_minor": 5
}
